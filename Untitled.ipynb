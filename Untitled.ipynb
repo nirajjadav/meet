{
 "cells": [
  {
   "cell_type": "code",
   "execution_count": 1,
   "id": "30ad8969",
   "metadata": {},
   "outputs": [],
   "source": [
    "import pandas as pd \n",
    "import numpy as np\n",
    "import warnings\n",
    "warnings.filterwarnings(\"ignore\")"
   ]
  },
  {
   "cell_type": "code",
   "execution_count": 2,
   "id": "3dd193ef",
   "metadata": {},
   "outputs": [
    {
     "data": {
      "text/html": [
       "<div>\n",
       "<style scoped>\n",
       "    .dataframe tbody tr th:only-of-type {\n",
       "        vertical-align: middle;\n",
       "    }\n",
       "\n",
       "    .dataframe tbody tr th {\n",
       "        vertical-align: top;\n",
       "    }\n",
       "\n",
       "    .dataframe thead th {\n",
       "        text-align: right;\n",
       "    }\n",
       "</style>\n",
       "<table border=\"1\" class=\"dataframe\">\n",
       "  <thead>\n",
       "    <tr style=\"text-align: right;\">\n",
       "      <th></th>\n",
       "      <th>number</th>\n",
       "      <th>air_pressure_9am</th>\n",
       "      <th>air_temp_9am</th>\n",
       "      <th>avg_wind_direction_9am</th>\n",
       "      <th>avg_wind_speed_9am</th>\n",
       "      <th>max_wind_direction_9am</th>\n",
       "      <th>max_wind_speed_9am</th>\n",
       "      <th>rain_accumulation_9am</th>\n",
       "      <th>rain_duration_9am</th>\n",
       "      <th>relative_humidity_9am</th>\n",
       "      <th>relative_humidity_3pm</th>\n",
       "    </tr>\n",
       "  </thead>\n",
       "  <tbody>\n",
       "    <tr>\n",
       "      <th>0</th>\n",
       "      <td>0</td>\n",
       "      <td>918.060000</td>\n",
       "      <td>74.822000</td>\n",
       "      <td>271.100000</td>\n",
       "      <td>2.080354</td>\n",
       "      <td>295.400000</td>\n",
       "      <td>2.863283</td>\n",
       "      <td>0.0</td>\n",
       "      <td>0.0</td>\n",
       "      <td>42.420000</td>\n",
       "      <td>36.160000</td>\n",
       "    </tr>\n",
       "    <tr>\n",
       "      <th>1</th>\n",
       "      <td>1</td>\n",
       "      <td>917.347688</td>\n",
       "      <td>71.403843</td>\n",
       "      <td>101.935179</td>\n",
       "      <td>2.443009</td>\n",
       "      <td>140.471549</td>\n",
       "      <td>3.533324</td>\n",
       "      <td>0.0</td>\n",
       "      <td>0.0</td>\n",
       "      <td>24.328697</td>\n",
       "      <td>19.426597</td>\n",
       "    </tr>\n",
       "    <tr>\n",
       "      <th>2</th>\n",
       "      <td>2</td>\n",
       "      <td>923.040000</td>\n",
       "      <td>60.638000</td>\n",
       "      <td>51.000000</td>\n",
       "      <td>17.067852</td>\n",
       "      <td>63.700000</td>\n",
       "      <td>22.100967</td>\n",
       "      <td>0.0</td>\n",
       "      <td>20.0</td>\n",
       "      <td>8.900000</td>\n",
       "      <td>14.460000</td>\n",
       "    </tr>\n",
       "    <tr>\n",
       "      <th>3</th>\n",
       "      <td>3</td>\n",
       "      <td>920.502751</td>\n",
       "      <td>70.138895</td>\n",
       "      <td>198.832133</td>\n",
       "      <td>4.337363</td>\n",
       "      <td>211.203341</td>\n",
       "      <td>5.190045</td>\n",
       "      <td>0.0</td>\n",
       "      <td>0.0</td>\n",
       "      <td>12.189102</td>\n",
       "      <td>12.742547</td>\n",
       "    </tr>\n",
       "    <tr>\n",
       "      <th>4</th>\n",
       "      <td>4</td>\n",
       "      <td>921.160000</td>\n",
       "      <td>44.294000</td>\n",
       "      <td>277.800000</td>\n",
       "      <td>1.856660</td>\n",
       "      <td>136.500000</td>\n",
       "      <td>2.863283</td>\n",
       "      <td>8.9</td>\n",
       "      <td>14730.0</td>\n",
       "      <td>92.410000</td>\n",
       "      <td>76.740000</td>\n",
       "    </tr>\n",
       "  </tbody>\n",
       "</table>\n",
       "</div>"
      ],
      "text/plain": [
       "   number  air_pressure_9am  air_temp_9am  avg_wind_direction_9am  \\\n",
       "0       0        918.060000     74.822000              271.100000   \n",
       "1       1        917.347688     71.403843              101.935179   \n",
       "2       2        923.040000     60.638000               51.000000   \n",
       "3       3        920.502751     70.138895              198.832133   \n",
       "4       4        921.160000     44.294000              277.800000   \n",
       "\n",
       "   avg_wind_speed_9am  max_wind_direction_9am  max_wind_speed_9am  \\\n",
       "0            2.080354              295.400000            2.863283   \n",
       "1            2.443009              140.471549            3.533324   \n",
       "2           17.067852               63.700000           22.100967   \n",
       "3            4.337363              211.203341            5.190045   \n",
       "4            1.856660              136.500000            2.863283   \n",
       "\n",
       "   rain_accumulation_9am  rain_duration_9am  relative_humidity_9am  \\\n",
       "0                    0.0                0.0              42.420000   \n",
       "1                    0.0                0.0              24.328697   \n",
       "2                    0.0               20.0               8.900000   \n",
       "3                    0.0                0.0              12.189102   \n",
       "4                    8.9            14730.0              92.410000   \n",
       "\n",
       "   relative_humidity_3pm  \n",
       "0              36.160000  \n",
       "1              19.426597  \n",
       "2              14.460000  \n",
       "3              12.742547  \n",
       "4              76.740000  "
      ]
     },
     "execution_count": 2,
     "metadata": {},
     "output_type": "execute_result"
    }
   ],
   "source": [
    "data=pd.read_csv(\"daily_weather.csv\")\n",
    "data.head()"
   ]
  },
  {
   "cell_type": "code",
   "execution_count": 3,
   "id": "5ebc9d87",
   "metadata": {},
   "outputs": [
    {
     "data": {
      "text/plain": [
       "(199, 11)"
      ]
     },
     "execution_count": 3,
     "metadata": {},
     "output_type": "execute_result"
    }
   ],
   "source": [
    "data.shape\n",
    "#rows = 1095 col=11"
   ]
  },
  {
   "cell_type": "code",
   "execution_count": 4,
   "id": "e3d73b1e",
   "metadata": {},
   "outputs": [
    {
     "name": "stdout",
     "output_type": "stream",
     "text": [
      "<class 'pandas.core.frame.DataFrame'>\n",
      "RangeIndex: 199 entries, 0 to 198\n",
      "Data columns (total 11 columns):\n",
      " #   Column                  Non-Null Count  Dtype  \n",
      "---  ------                  --------------  -----  \n",
      " 0   number                  199 non-null    int64  \n",
      " 1   air_pressure_9am        199 non-null    float64\n",
      " 2   air_temp_9am            197 non-null    float64\n",
      " 3   avg_wind_direction_9am  199 non-null    float64\n",
      " 4   avg_wind_speed_9am      199 non-null    float64\n",
      " 5   max_wind_direction_9am  199 non-null    float64\n",
      " 6   max_wind_speed_9am      198 non-null    float64\n",
      " 7   rain_accumulation_9am   199 non-null    float64\n",
      " 8   rain_duration_9am       199 non-null    float64\n",
      " 9   relative_humidity_9am   199 non-null    float64\n",
      " 10  relative_humidity_3pm   199 non-null    float64\n",
      "dtypes: float64(10), int64(1)\n",
      "memory usage: 17.2 KB\n"
     ]
    }
   ],
   "source": [
    "data.info()"
   ]
  },
  {
   "cell_type": "code",
   "execution_count": 5,
   "id": "09b3c207",
   "metadata": {},
   "outputs": [
    {
     "data": {
      "text/plain": [
       "number                    0\n",
       "air_pressure_9am          0\n",
       "air_temp_9am              2\n",
       "avg_wind_direction_9am    0\n",
       "avg_wind_speed_9am        0\n",
       "max_wind_direction_9am    0\n",
       "max_wind_speed_9am        1\n",
       "rain_accumulation_9am     0\n",
       "rain_duration_9am         0\n",
       "relative_humidity_9am     0\n",
       "relative_humidity_3pm     0\n",
       "dtype: int64"
      ]
     },
     "execution_count": 5,
     "metadata": {},
     "output_type": "execute_result"
    }
   ],
   "source": [
    "#find missing value\n",
    "data.isna().sum()"
   ]
  },
  {
   "cell_type": "code",
   "execution_count": 6,
   "id": "27bf5495",
   "metadata": {},
   "outputs": [
    {
     "data": {
      "text/plain": [
       "Index(['number', 'air_pressure_9am', 'air_temp_9am', 'avg_wind_direction_9am',\n",
       "       'avg_wind_speed_9am', 'max_wind_direction_9am', 'max_wind_speed_9am',\n",
       "       'rain_accumulation_9am', 'rain_duration_9am', 'relative_humidity_9am',\n",
       "       'relative_humidity_3pm'],\n",
       "      dtype='object')"
      ]
     },
     "execution_count": 6,
     "metadata": {},
     "output_type": "execute_result"
    }
   ],
   "source": [
    "data.columns"
   ]
  },
  {
   "cell_type": "code",
   "execution_count": 7,
   "id": "79acc977",
   "metadata": {},
   "outputs": [],
   "source": [
    "col_missing_value=['air_pressure_9am', 'air_temp_9am', 'avg_wind_direction_9am',\n",
    "       'avg_wind_speed_9am', 'max_wind_direction_9am', 'max_wind_speed_9am',\n",
    "       'rain_accumulation_9am', 'rain_duration_9am']"
   ]
  },
  {
   "cell_type": "code",
   "execution_count": 8,
   "id": "c14d0d0b",
   "metadata": {},
   "outputs": [
    {
     "name": "stdout",
     "output_type": "stream",
     "text": [
      "median value in 918.9 of column is air_pressure_9am\n",
      "median value in 65.89729045 of column is air_temp_9am\n",
      "median value in 170.2 of column is avg_wind_direction_9am\n",
      "median value in 3.6014734 of column is avg_wind_speed_9am\n",
      "median value in 184.5 of column is max_wind_direction_9am\n",
      "median value in 4.756604261 of column is max_wind_speed_9am\n",
      "median value in 0.0 of column is rain_accumulation_9am\n",
      "median value in 0.0 of column is rain_duration_9am\n"
     ]
    }
   ],
   "source": [
    "for col in col_missing_value:\n",
    "    md=data[col].median()\n",
    "    print(f\"median value in {md} of column is {col}\")\n",
    "    data.fillna({col:md},inplace=True)"
   ]
  },
  {
   "cell_type": "code",
   "execution_count": 9,
   "id": "e00c46bd",
   "metadata": {},
   "outputs": [
    {
     "data": {
      "text/plain": [
       "number                    0\n",
       "air_pressure_9am          0\n",
       "air_temp_9am              0\n",
       "avg_wind_direction_9am    0\n",
       "avg_wind_speed_9am        0\n",
       "max_wind_direction_9am    0\n",
       "max_wind_speed_9am        0\n",
       "rain_accumulation_9am     0\n",
       "rain_duration_9am         0\n",
       "relative_humidity_9am     0\n",
       "relative_humidity_3pm     0\n",
       "dtype: int64"
      ]
     },
     "execution_count": 9,
     "metadata": {},
     "output_type": "execute_result"
    }
   ],
   "source": [
    "data.isna().sum()"
   ]
  },
  {
   "cell_type": "code",
   "execution_count": 10,
   "id": "f86eb822",
   "metadata": {},
   "outputs": [
    {
     "data": {
      "text/html": [
       "<div>\n",
       "<style scoped>\n",
       "    .dataframe tbody tr th:only-of-type {\n",
       "        vertical-align: middle;\n",
       "    }\n",
       "\n",
       "    .dataframe tbody tr th {\n",
       "        vertical-align: top;\n",
       "    }\n",
       "\n",
       "    .dataframe thead th {\n",
       "        text-align: right;\n",
       "    }\n",
       "</style>\n",
       "<table border=\"1\" class=\"dataframe\">\n",
       "  <thead>\n",
       "    <tr style=\"text-align: right;\">\n",
       "      <th></th>\n",
       "      <th>air_pressure_9am</th>\n",
       "      <th>air_temp_9am</th>\n",
       "      <th>avg_wind_direction_9am</th>\n",
       "      <th>avg_wind_speed_9am</th>\n",
       "      <th>max_wind_direction_9am</th>\n",
       "      <th>max_wind_speed_9am</th>\n",
       "      <th>rain_accumulation_9am</th>\n",
       "      <th>rain_duration_9am</th>\n",
       "      <th>relative_humidity_9am</th>\n",
       "    </tr>\n",
       "  </thead>\n",
       "  <tbody>\n",
       "    <tr>\n",
       "      <th>0</th>\n",
       "      <td>918.060000</td>\n",
       "      <td>74.822000</td>\n",
       "      <td>271.100000</td>\n",
       "      <td>2.080354</td>\n",
       "      <td>295.400000</td>\n",
       "      <td>2.863283</td>\n",
       "      <td>0.0</td>\n",
       "      <td>0.0</td>\n",
       "      <td>42.420000</td>\n",
       "    </tr>\n",
       "    <tr>\n",
       "      <th>1</th>\n",
       "      <td>917.347688</td>\n",
       "      <td>71.403843</td>\n",
       "      <td>101.935179</td>\n",
       "      <td>2.443009</td>\n",
       "      <td>140.471549</td>\n",
       "      <td>3.533324</td>\n",
       "      <td>0.0</td>\n",
       "      <td>0.0</td>\n",
       "      <td>24.328697</td>\n",
       "    </tr>\n",
       "    <tr>\n",
       "      <th>2</th>\n",
       "      <td>923.040000</td>\n",
       "      <td>60.638000</td>\n",
       "      <td>51.000000</td>\n",
       "      <td>17.067852</td>\n",
       "      <td>63.700000</td>\n",
       "      <td>22.100967</td>\n",
       "      <td>0.0</td>\n",
       "      <td>20.0</td>\n",
       "      <td>8.900000</td>\n",
       "    </tr>\n",
       "    <tr>\n",
       "      <th>3</th>\n",
       "      <td>920.502751</td>\n",
       "      <td>70.138895</td>\n",
       "      <td>198.832133</td>\n",
       "      <td>4.337363</td>\n",
       "      <td>211.203341</td>\n",
       "      <td>5.190045</td>\n",
       "      <td>0.0</td>\n",
       "      <td>0.0</td>\n",
       "      <td>12.189102</td>\n",
       "    </tr>\n",
       "    <tr>\n",
       "      <th>4</th>\n",
       "      <td>921.160000</td>\n",
       "      <td>44.294000</td>\n",
       "      <td>277.800000</td>\n",
       "      <td>1.856660</td>\n",
       "      <td>136.500000</td>\n",
       "      <td>2.863283</td>\n",
       "      <td>8.9</td>\n",
       "      <td>14730.0</td>\n",
       "      <td>92.410000</td>\n",
       "    </tr>\n",
       "  </tbody>\n",
       "</table>\n",
       "</div>"
      ],
      "text/plain": [
       "   air_pressure_9am  air_temp_9am  avg_wind_direction_9am  avg_wind_speed_9am  \\\n",
       "0        918.060000     74.822000              271.100000            2.080354   \n",
       "1        917.347688     71.403843              101.935179            2.443009   \n",
       "2        923.040000     60.638000               51.000000           17.067852   \n",
       "3        920.502751     70.138895              198.832133            4.337363   \n",
       "4        921.160000     44.294000              277.800000            1.856660   \n",
       "\n",
       "   max_wind_direction_9am  max_wind_speed_9am  rain_accumulation_9am  \\\n",
       "0              295.400000            2.863283                    0.0   \n",
       "1              140.471549            3.533324                    0.0   \n",
       "2               63.700000           22.100967                    0.0   \n",
       "3              211.203341            5.190045                    0.0   \n",
       "4              136.500000            2.863283                    8.9   \n",
       "\n",
       "   rain_duration_9am  relative_humidity_9am  \n",
       "0                0.0              42.420000  \n",
       "1                0.0              24.328697  \n",
       "2               20.0               8.900000  \n",
       "3                0.0              12.189102  \n",
       "4            14730.0              92.410000  "
      ]
     },
     "execution_count": 10,
     "metadata": {},
     "output_type": "execute_result"
    }
   ],
   "source": [
    "x=data.drop([\"number\",\"relative_humidity_3pm\"],axis=1)\n",
    "x.head()"
   ]
  },
  {
   "cell_type": "code",
   "execution_count": 11,
   "id": "5bac8cfc",
   "metadata": {},
   "outputs": [
    {
     "data": {
      "text/plain": [
       "0      36.160000\n",
       "1      19.426597\n",
       "2      14.460000\n",
       "3      12.742547\n",
       "4      76.740000\n",
       "         ...    \n",
       "194    70.320000\n",
       "195    18.272918\n",
       "196    54.370000\n",
       "197    14.610000\n",
       "198    19.606938\n",
       "Name: relative_humidity_3pm, Length: 199, dtype: float64"
      ]
     },
     "execution_count": 11,
     "metadata": {},
     "output_type": "execute_result"
    }
   ],
   "source": [
    "y=data[\"relative_humidity_3pm\"]\n",
    "y"
   ]
  },
  {
   "cell_type": "code",
   "execution_count": 12,
   "id": "bbb0ebe3",
   "metadata": {},
   "outputs": [],
   "source": [
    "from sklearn.model_selection import train_test_split"
   ]
  },
  {
   "cell_type": "code",
   "execution_count": 13,
   "id": "2a4a3837",
   "metadata": {},
   "outputs": [
    {
     "name": "stdout",
     "output_type": "stream",
     "text": [
      "x_train(159, 9)\n",
      "y_train(159,)\n",
      "x_test(40, 9)\n",
      "y_test(40,)\n"
     ]
    }
   ],
   "source": [
    "x_train,x_test,y_train,y_test=train_test_split(x,y,test_size=0.2,random_state=3243287,shuffle=True)\n",
    "print(f\"x_train{x_train.shape}\")\n",
    "print(f\"y_train{y_train.shape}\")\n",
    "print(f\"x_test{x_test.shape}\")\n",
    "print(f\"y_test{y_test.shape}\")"
   ]
  },
  {
   "cell_type": "code",
   "execution_count": 14,
   "id": "5ad9f9df",
   "metadata": {},
   "outputs": [],
   "source": [
    "from sklearn.tree import DecisionTreeRegressor"
   ]
  },
  {
   "cell_type": "code",
   "execution_count": 16,
   "id": "7304e148",
   "metadata": {},
   "outputs": [
    {
     "data": {
      "text/plain": [
       "array([43.63      ,  9.6644229 , 22.18990678, 19.68      , 29.09      ,\n",
       "       20.71      , 65.04      , 46.5       , 90.99      , 55.57      ,\n",
       "       24.03      , 16.45      , 47.16      , 35.18      , 64.88      ,\n",
       "       17.28116117, 51.19      , 31.97      , 52.05      , 35.52      ,\n",
       "       29.09      , 54.5       , 83.17      , 35.69      , 29.09      ,\n",
       "       90.58      , 14.24      , 17.42827468, 64.52      , 17.42827468,\n",
       "       14.54      , 19.04826571, 26.94      , 17.4       , 15.84956394,\n",
       "       12.69854598, 69.19      , 54.5       , 14.46      , 29.09      ])"
      ]
     },
     "execution_count": 16,
     "metadata": {},
     "output_type": "execute_result"
    }
   ],
   "source": [
    "dtr=DecisionTreeRegressor()\n",
    "#train model\n",
    "dtr.fit(x_train,y_train)\n",
    "# evaluate model\n",
    "y_pred=dtr.predict(x_test)\n",
    "y_pred"
   ]
  },
  {
   "cell_type": "code",
   "execution_count": 17,
   "id": "36dd3474",
   "metadata": {},
   "outputs": [],
   "source": [
    "from sklearn.metrics import mean_squared_error\n",
    "from math import sqrt"
   ]
  },
  {
   "cell_type": "code",
   "execution_count": 18,
   "id": "23180073",
   "metadata": {},
   "outputs": [
    {
     "data": {
      "text/plain": [
       "14.696439375289689"
      ]
     },
     "execution_count": 18,
     "metadata": {},
     "output_type": "execute_result"
    }
   ],
   "source": [
    "rmse=sqrt(mean_squared_error(y_test,y_pred))\n",
    "rmse"
   ]
  },
  {
   "cell_type": "code",
   "execution_count": 19,
   "id": "2f6157d4",
   "metadata": {},
   "outputs": [
    {
     "data": {
      "text/plain": [
       "0.6200129637784766"
      ]
     },
     "execution_count": 19,
     "metadata": {},
     "output_type": "execute_result"
    }
   ],
   "source": [
    "from sklearn.metrics import r2_score\n",
    "r_squere=r2_score(y_test,y_pred)\n",
    "r_squere"
   ]
  },
  {
   "cell_type": "code",
   "execution_count": 22,
   "id": "475e4817",
   "metadata": {},
   "outputs": [
    {
     "ename": "ModuleNotFoundError",
     "evalue": "No module named 'pydotplus'",
     "output_type": "error",
     "traceback": [
      "\u001b[1;31m---------------------------------------------------------------------------\u001b[0m",
      "\u001b[1;31mModuleNotFoundError\u001b[0m                       Traceback (most recent call last)",
      "Cell \u001b[1;32mIn[22], line 2\u001b[0m\n\u001b[0;32m      1\u001b[0m \u001b[38;5;28;01mfrom\u001b[39;00m \u001b[38;5;21;01msklearn\u001b[39;00m\u001b[38;5;21;01m.\u001b[39;00m\u001b[38;5;21;01mtree\u001b[39;00m \u001b[38;5;28;01mimport\u001b[39;00m export_graphviz\n\u001b[1;32m----> 2\u001b[0m \u001b[38;5;28;01mimport\u001b[39;00m \u001b[38;5;21;01mpydotplus\u001b[39;00m\n\u001b[0;32m      3\u001b[0m \u001b[38;5;28;01mfrom\u001b[39;00m \u001b[38;5;21;01mIPython\u001b[39;00m\u001b[38;5;21;01m.\u001b[39;00m\u001b[38;5;21;01mdisplay\u001b[39;00m \u001b[38;5;28;01mimport\u001b[39;00m Image\n\u001b[0;32m      4\u001b[0m dot_tree\u001b[38;5;241m=\u001b[39mexport_graphviz(decision_tree\u001b[38;5;241m=\u001b[39mdtr,\n\u001b[0;32m      5\u001b[0m                         filled\u001b[38;5;241m=\u001b[39m\u001b[38;5;28;01mTrue\u001b[39;00m,\n\u001b[0;32m      6\u001b[0m                         rounded\u001b[38;5;241m=\u001b[39m\u001b[38;5;28;01mTrue\u001b[39;00m,\n\u001b[0;32m      7\u001b[0m                         special_characters\u001b[38;5;241m=\u001b[39m\u001b[38;5;28;01mTrue\u001b[39;00m )\n",
      "\u001b[1;31mModuleNotFoundError\u001b[0m: No module named 'pydotplus'"
     ]
    }
   ],
   "source": [
    "from sklearn.tree import export_graphviz\n",
    "import pydotplus\n",
    "from IPython.display import Image\n",
    "dot_tree=export_graphviz(decision_tree=dtr,\n",
    "                        filled=True,\n",
    "                        rounded=True,\n",
    "                        special_characters=True )\n",
    "graph=pydotplus.graph_from_dot_data(dot_tree)\n",
    "Image(graph.create_png())"
   ]
  },
  {
   "cell_type": "code",
   "execution_count": 23,
   "id": "4c848e09",
   "metadata": {},
   "outputs": [
    {
     "data": {
      "text/plain": [
       "Index(['air_pressure_9am', 'air_temp_9am', 'avg_wind_direction_9am',\n",
       "       'avg_wind_speed_9am', 'max_wind_direction_9am', 'max_wind_speed_9am',\n",
       "       'rain_accumulation_9am', 'rain_duration_9am', 'relative_humidity_9am'],\n",
       "      dtype='object')"
      ]
     },
     "execution_count": 23,
     "metadata": {},
     "output_type": "execute_result"
    }
   ],
   "source": [
    "x_test.columns"
   ]
  },
  {
   "cell_type": "code",
   "execution_count": 24,
   "id": "0f9d2ac1",
   "metadata": {},
   "outputs": [
    {
     "data": {
      "text/html": [
       "<div>\n",
       "<style scoped>\n",
       "    .dataframe tbody tr th:only-of-type {\n",
       "        vertical-align: middle;\n",
       "    }\n",
       "\n",
       "    .dataframe tbody tr th {\n",
       "        vertical-align: top;\n",
       "    }\n",
       "\n",
       "    .dataframe thead th {\n",
       "        text-align: right;\n",
       "    }\n",
       "</style>\n",
       "<table border=\"1\" class=\"dataframe\">\n",
       "  <thead>\n",
       "    <tr style=\"text-align: right;\">\n",
       "      <th></th>\n",
       "      <th>air_pressure_9am</th>\n",
       "      <th>air_temp_9am</th>\n",
       "      <th>avg_wind_direction_9am</th>\n",
       "      <th>avg_wind_speed_9am</th>\n",
       "      <th>max_wind_direction_9am</th>\n",
       "      <th>max_wind_speed_9am</th>\n",
       "      <th>rain_accumulation_9am</th>\n",
       "      <th>rain_duration_9am</th>\n",
       "      <th>relative_humidity_9am</th>\n",
       "    </tr>\n",
       "  </thead>\n",
       "  <tbody>\n",
       "    <tr>\n",
       "      <th>count</th>\n",
       "      <td>40.000000</td>\n",
       "      <td>40.000000</td>\n",
       "      <td>40.000000</td>\n",
       "      <td>40.000000</td>\n",
       "      <td>40.000000</td>\n",
       "      <td>40.000000</td>\n",
       "      <td>40.000000</td>\n",
       "      <td>40.000000</td>\n",
       "      <td>40.000000</td>\n",
       "    </tr>\n",
       "    <tr>\n",
       "      <th>mean</th>\n",
       "      <td>918.925008</td>\n",
       "      <td>64.073338</td>\n",
       "      <td>138.443818</td>\n",
       "      <td>5.338206</td>\n",
       "      <td>151.783727</td>\n",
       "      <td>6.804562</td>\n",
       "      <td>0.064000</td>\n",
       "      <td>208.809927</td>\n",
       "      <td>38.148064</td>\n",
       "    </tr>\n",
       "    <tr>\n",
       "      <th>std</th>\n",
       "      <td>3.156724</td>\n",
       "      <td>12.638659</td>\n",
       "      <td>64.940322</td>\n",
       "      <td>4.264926</td>\n",
       "      <td>63.566812</td>\n",
       "      <td>5.177122</td>\n",
       "      <td>0.263145</td>\n",
       "      <td>903.452558</td>\n",
       "      <td>27.156735</td>\n",
       "    </tr>\n",
       "    <tr>\n",
       "      <th>min</th>\n",
       "      <td>911.700000</td>\n",
       "      <td>38.138000</td>\n",
       "      <td>40.200000</td>\n",
       "      <td>1.118470</td>\n",
       "      <td>59.500000</td>\n",
       "      <td>1.811921</td>\n",
       "      <td>0.000000</td>\n",
       "      <td>0.000000</td>\n",
       "      <td>8.810402</td>\n",
       "    </tr>\n",
       "    <tr>\n",
       "      <th>50%</th>\n",
       "      <td>918.995000</td>\n",
       "      <td>65.714000</td>\n",
       "      <td>165.968204</td>\n",
       "      <td>3.664097</td>\n",
       "      <td>180.200000</td>\n",
       "      <td>5.144962</td>\n",
       "      <td>0.000000</td>\n",
       "      <td>0.000000</td>\n",
       "      <td>28.970000</td>\n",
       "    </tr>\n",
       "    <tr>\n",
       "      <th>max</th>\n",
       "      <td>925.960000</td>\n",
       "      <td>86.239751</td>\n",
       "      <td>241.600000</td>\n",
       "      <td>17.873151</td>\n",
       "      <td>265.800000</td>\n",
       "      <td>22.279922</td>\n",
       "      <td>1.530000</td>\n",
       "      <td>5420.000000</td>\n",
       "      <td>91.220000</td>\n",
       "    </tr>\n",
       "  </tbody>\n",
       "</table>\n",
       "</div>"
      ],
      "text/plain": [
       "       air_pressure_9am  air_temp_9am  avg_wind_direction_9am  \\\n",
       "count         40.000000     40.000000               40.000000   \n",
       "mean         918.925008     64.073338              138.443818   \n",
       "std            3.156724     12.638659               64.940322   \n",
       "min          911.700000     38.138000               40.200000   \n",
       "50%          918.995000     65.714000              165.968204   \n",
       "max          925.960000     86.239751              241.600000   \n",
       "\n",
       "       avg_wind_speed_9am  max_wind_direction_9am  max_wind_speed_9am  \\\n",
       "count           40.000000               40.000000           40.000000   \n",
       "mean             5.338206              151.783727            6.804562   \n",
       "std              4.264926               63.566812            5.177122   \n",
       "min              1.118470               59.500000            1.811921   \n",
       "50%              3.664097              180.200000            5.144962   \n",
       "max             17.873151              265.800000           22.279922   \n",
       "\n",
       "       rain_accumulation_9am  rain_duration_9am  relative_humidity_9am  \n",
       "count              40.000000          40.000000              40.000000  \n",
       "mean                0.064000         208.809927              38.148064  \n",
       "std                 0.263145         903.452558              27.156735  \n",
       "min                 0.000000           0.000000               8.810402  \n",
       "50%                 0.000000           0.000000              28.970000  \n",
       "max                 1.530000        5420.000000              91.220000  "
      ]
     },
     "execution_count": 24,
     "metadata": {},
     "output_type": "execute_result"
    }
   ],
   "source": [
    "x_test.describe(())"
   ]
  },
  {
   "cell_type": "code",
   "execution_count": 25,
   "id": "1d9c35cb",
   "metadata": {},
   "outputs": [
    {
     "data": {
      "text/plain": [
       "air_pressure_9am          float64\n",
       "air_temp_9am              float64\n",
       "avg_wind_direction_9am    float64\n",
       "avg_wind_speed_9am        float64\n",
       "max_wind_direction_9am    float64\n",
       "max_wind_speed_9am        float64\n",
       "rain_accumulation_9am     float64\n",
       "rain_duration_9am         float64\n",
       "relative_humidity_9am     float64\n",
       "dtype: object"
      ]
     },
     "execution_count": 25,
     "metadata": {},
     "output_type": "execute_result"
    }
   ],
   "source": [
    "x_test.dtypes"
   ]
  },
  {
   "cell_type": "code",
   "execution_count": 26,
   "id": "46c7b6ad",
   "metadata": {},
   "outputs": [
    {
     "name": "stdout",
     "output_type": "stream",
     "text": [
      "[43.63        9.6644229  22.18990678 19.68       29.09       20.71\n",
      " 65.04       46.5        90.99       55.57       24.03       16.45\n",
      " 47.16       35.18       64.88       17.28116117 51.19       31.97\n",
      " 52.05       35.52       29.09       54.5        83.17       35.69\n",
      " 29.09       90.58       14.24       17.42827468 64.52       17.42827468\n",
      " 14.54       19.04826571 26.94       17.4        15.84956394 12.69854598\n",
      " 69.19       54.5        14.46       29.09      ]\n",
      "Rmse 14.448701711019329\n",
      "R Square 0.6200129637784766\n"
     ]
    }
   ],
   "source": [
    "dtr_hyper=DecisionTreeRegressor(min_samples_split=100,max_depth=5)\n",
    "#train m,odel\n",
    "dtr_hyper.fit(x_train,y_train)\n",
    "#evaluate model\n",
    "y_pred_with_hyper_parameter=dtr_hyper.predict(x_test)\n",
    "print(y_pred)\n",
    "rmse=sqrt(mean_squared_error(y_test,y_pred_with_hyper_parameter))\n",
    "print(\"Rmse\",rmse)\n",
    "r_square=r2_score(y_test,y_pred)\n",
    "print(\"R Square\",r_square)\n"
   ]
  },
  {
   "cell_type": "code",
   "execution_count": 28,
   "id": "02ebcec0",
   "metadata": {},
   "outputs": [],
   "source": [
    "import pickle\n",
    "pickle.dump(dtr_hyper,open(\"Decision_tree_model.pkl\",\"wb\"))"
   ]
  },
  {
   "cell_type": "code",
   "execution_count": 29,
   "id": "16952532",
   "metadata": {},
   "outputs": [],
   "source": [
    "data[\"classify\"]=data[\"relative_humidity_3pm\"]>=data[\"relative_humidity_3pm\"].median()"
   ]
  },
  {
   "cell_type": "code",
   "execution_count": 30,
   "id": "f2648dae",
   "metadata": {},
   "outputs": [
    {
     "data": {
      "text/html": [
       "<div>\n",
       "<style scoped>\n",
       "    .dataframe tbody tr th:only-of-type {\n",
       "        vertical-align: middle;\n",
       "    }\n",
       "\n",
       "    .dataframe tbody tr th {\n",
       "        vertical-align: top;\n",
       "    }\n",
       "\n",
       "    .dataframe thead th {\n",
       "        text-align: right;\n",
       "    }\n",
       "</style>\n",
       "<table border=\"1\" class=\"dataframe\">\n",
       "  <thead>\n",
       "    <tr style=\"text-align: right;\">\n",
       "      <th></th>\n",
       "      <th>number</th>\n",
       "      <th>air_pressure_9am</th>\n",
       "      <th>air_temp_9am</th>\n",
       "      <th>avg_wind_direction_9am</th>\n",
       "      <th>avg_wind_speed_9am</th>\n",
       "      <th>max_wind_direction_9am</th>\n",
       "      <th>max_wind_speed_9am</th>\n",
       "      <th>rain_accumulation_9am</th>\n",
       "      <th>rain_duration_9am</th>\n",
       "      <th>relative_humidity_9am</th>\n",
       "      <th>relative_humidity_3pm</th>\n",
       "      <th>classify</th>\n",
       "    </tr>\n",
       "  </thead>\n",
       "  <tbody>\n",
       "    <tr>\n",
       "      <th>0</th>\n",
       "      <td>0</td>\n",
       "      <td>918.060000</td>\n",
       "      <td>74.822000</td>\n",
       "      <td>271.100000</td>\n",
       "      <td>2.080354</td>\n",
       "      <td>295.400000</td>\n",
       "      <td>2.863283</td>\n",
       "      <td>0.0</td>\n",
       "      <td>0.0</td>\n",
       "      <td>42.420000</td>\n",
       "      <td>36.160000</td>\n",
       "      <td>True</td>\n",
       "    </tr>\n",
       "    <tr>\n",
       "      <th>1</th>\n",
       "      <td>1</td>\n",
       "      <td>917.347688</td>\n",
       "      <td>71.403843</td>\n",
       "      <td>101.935179</td>\n",
       "      <td>2.443009</td>\n",
       "      <td>140.471549</td>\n",
       "      <td>3.533324</td>\n",
       "      <td>0.0</td>\n",
       "      <td>0.0</td>\n",
       "      <td>24.328697</td>\n",
       "      <td>19.426597</td>\n",
       "      <td>False</td>\n",
       "    </tr>\n",
       "    <tr>\n",
       "      <th>2</th>\n",
       "      <td>2</td>\n",
       "      <td>923.040000</td>\n",
       "      <td>60.638000</td>\n",
       "      <td>51.000000</td>\n",
       "      <td>17.067852</td>\n",
       "      <td>63.700000</td>\n",
       "      <td>22.100967</td>\n",
       "      <td>0.0</td>\n",
       "      <td>20.0</td>\n",
       "      <td>8.900000</td>\n",
       "      <td>14.460000</td>\n",
       "      <td>False</td>\n",
       "    </tr>\n",
       "    <tr>\n",
       "      <th>3</th>\n",
       "      <td>3</td>\n",
       "      <td>920.502751</td>\n",
       "      <td>70.138895</td>\n",
       "      <td>198.832133</td>\n",
       "      <td>4.337363</td>\n",
       "      <td>211.203341</td>\n",
       "      <td>5.190045</td>\n",
       "      <td>0.0</td>\n",
       "      <td>0.0</td>\n",
       "      <td>12.189102</td>\n",
       "      <td>12.742547</td>\n",
       "      <td>False</td>\n",
       "    </tr>\n",
       "    <tr>\n",
       "      <th>4</th>\n",
       "      <td>4</td>\n",
       "      <td>921.160000</td>\n",
       "      <td>44.294000</td>\n",
       "      <td>277.800000</td>\n",
       "      <td>1.856660</td>\n",
       "      <td>136.500000</td>\n",
       "      <td>2.863283</td>\n",
       "      <td>8.9</td>\n",
       "      <td>14730.0</td>\n",
       "      <td>92.410000</td>\n",
       "      <td>76.740000</td>\n",
       "      <td>True</td>\n",
       "    </tr>\n",
       "    <tr>\n",
       "      <th>...</th>\n",
       "      <td>...</td>\n",
       "      <td>...</td>\n",
       "      <td>...</td>\n",
       "      <td>...</td>\n",
       "      <td>...</td>\n",
       "      <td>...</td>\n",
       "      <td>...</td>\n",
       "      <td>...</td>\n",
       "      <td>...</td>\n",
       "      <td>...</td>\n",
       "      <td>...</td>\n",
       "      <td>...</td>\n",
       "    </tr>\n",
       "    <tr>\n",
       "      <th>194</th>\n",
       "      <td>194</td>\n",
       "      <td>919.360000</td>\n",
       "      <td>48.740000</td>\n",
       "      <td>280.900000</td>\n",
       "      <td>2.527742</td>\n",
       "      <td>274.800000</td>\n",
       "      <td>3.668582</td>\n",
       "      <td>0.0</td>\n",
       "      <td>70.0</td>\n",
       "      <td>90.700000</td>\n",
       "      <td>70.320000</td>\n",
       "      <td>True</td>\n",
       "    </tr>\n",
       "    <tr>\n",
       "      <th>195</th>\n",
       "      <td>195</td>\n",
       "      <td>918.391498</td>\n",
       "      <td>73.168578</td>\n",
       "      <td>181.720758</td>\n",
       "      <td>1.630045</td>\n",
       "      <td>185.877557</td>\n",
       "      <td>2.247384</td>\n",
       "      <td>0.0</td>\n",
       "      <td>0.0</td>\n",
       "      <td>11.814585</td>\n",
       "      <td>18.272918</td>\n",
       "      <td>False</td>\n",
       "    </tr>\n",
       "    <tr>\n",
       "      <th>196</th>\n",
       "      <td>196</td>\n",
       "      <td>911.700000</td>\n",
       "      <td>47.804000</td>\n",
       "      <td>190.100000</td>\n",
       "      <td>3.310671</td>\n",
       "      <td>217.700000</td>\n",
       "      <td>4.071231</td>\n",
       "      <td>0.0</td>\n",
       "      <td>0.0</td>\n",
       "      <td>90.090000</td>\n",
       "      <td>54.370000</td>\n",
       "      <td>True</td>\n",
       "    </tr>\n",
       "    <tr>\n",
       "      <th>197</th>\n",
       "      <td>197</td>\n",
       "      <td>920.930000</td>\n",
       "      <td>75.434000</td>\n",
       "      <td>40.200000</td>\n",
       "      <td>2.147462</td>\n",
       "      <td>65.100000</td>\n",
       "      <td>2.975130</td>\n",
       "      <td>0.0</td>\n",
       "      <td>0.0</td>\n",
       "      <td>15.090000</td>\n",
       "      <td>14.610000</td>\n",
       "      <td>False</td>\n",
       "    </tr>\n",
       "    <tr>\n",
       "      <th>198</th>\n",
       "      <td>198</td>\n",
       "      <td>922.698232</td>\n",
       "      <td>60.274798</td>\n",
       "      <td>137.924942</td>\n",
       "      <td>3.300546</td>\n",
       "      <td>147.139294</td>\n",
       "      <td>5.146778</td>\n",
       "      <td>0.0</td>\n",
       "      <td>0.0</td>\n",
       "      <td>19.818373</td>\n",
       "      <td>19.606938</td>\n",
       "      <td>False</td>\n",
       "    </tr>\n",
       "  </tbody>\n",
       "</table>\n",
       "<p>199 rows × 12 columns</p>\n",
       "</div>"
      ],
      "text/plain": [
       "     number  air_pressure_9am  air_temp_9am  avg_wind_direction_9am  \\\n",
       "0         0        918.060000     74.822000              271.100000   \n",
       "1         1        917.347688     71.403843              101.935179   \n",
       "2         2        923.040000     60.638000               51.000000   \n",
       "3         3        920.502751     70.138895              198.832133   \n",
       "4         4        921.160000     44.294000              277.800000   \n",
       "..      ...               ...           ...                     ...   \n",
       "194     194        919.360000     48.740000              280.900000   \n",
       "195     195        918.391498     73.168578              181.720758   \n",
       "196     196        911.700000     47.804000              190.100000   \n",
       "197     197        920.930000     75.434000               40.200000   \n",
       "198     198        922.698232     60.274798              137.924942   \n",
       "\n",
       "     avg_wind_speed_9am  max_wind_direction_9am  max_wind_speed_9am  \\\n",
       "0              2.080354              295.400000            2.863283   \n",
       "1              2.443009              140.471549            3.533324   \n",
       "2             17.067852               63.700000           22.100967   \n",
       "3              4.337363              211.203341            5.190045   \n",
       "4              1.856660              136.500000            2.863283   \n",
       "..                  ...                     ...                 ...   \n",
       "194            2.527742              274.800000            3.668582   \n",
       "195            1.630045              185.877557            2.247384   \n",
       "196            3.310671              217.700000            4.071231   \n",
       "197            2.147462               65.100000            2.975130   \n",
       "198            3.300546              147.139294            5.146778   \n",
       "\n",
       "     rain_accumulation_9am  rain_duration_9am  relative_humidity_9am  \\\n",
       "0                      0.0                0.0              42.420000   \n",
       "1                      0.0                0.0              24.328697   \n",
       "2                      0.0               20.0               8.900000   \n",
       "3                      0.0                0.0              12.189102   \n",
       "4                      8.9            14730.0              92.410000   \n",
       "..                     ...                ...                    ...   \n",
       "194                    0.0               70.0              90.700000   \n",
       "195                    0.0                0.0              11.814585   \n",
       "196                    0.0                0.0              90.090000   \n",
       "197                    0.0                0.0              15.090000   \n",
       "198                    0.0                0.0              19.818373   \n",
       "\n",
       "     relative_humidity_3pm  classify  \n",
       "0                36.160000      True  \n",
       "1                19.426597     False  \n",
       "2                14.460000     False  \n",
       "3                12.742547     False  \n",
       "4                76.740000      True  \n",
       "..                     ...       ...  \n",
       "194              70.320000      True  \n",
       "195              18.272918     False  \n",
       "196              54.370000      True  \n",
       "197              14.610000     False  \n",
       "198              19.606938     False  \n",
       "\n",
       "[199 rows x 12 columns]"
      ]
     },
     "execution_count": 30,
     "metadata": {},
     "output_type": "execute_result"
    }
   ],
   "source": [
    "data"
   ]
  },
  {
   "cell_type": "code",
   "execution_count": 31,
   "id": "41211c73",
   "metadata": {},
   "outputs": [
    {
     "data": {
      "text/plain": [
       "number                      int64\n",
       "air_pressure_9am          float64\n",
       "air_temp_9am              float64\n",
       "avg_wind_direction_9am    float64\n",
       "avg_wind_speed_9am        float64\n",
       "max_wind_direction_9am    float64\n",
       "max_wind_speed_9am        float64\n",
       "rain_accumulation_9am     float64\n",
       "rain_duration_9am         float64\n",
       "relative_humidity_9am     float64\n",
       "relative_humidity_3pm     float64\n",
       "classify                     bool\n",
       "dtype: object"
      ]
     },
     "execution_count": 31,
     "metadata": {},
     "output_type": "execute_result"
    }
   ],
   "source": [
    "data.dtypes"
   ]
  },
  {
   "cell_type": "code",
   "execution_count": 32,
   "id": "2617e97c",
   "metadata": {},
   "outputs": [
    {
     "data": {
      "text/plain": [
       "0      1\n",
       "1      0\n",
       "2      0\n",
       "3      0\n",
       "4      1\n",
       "      ..\n",
       "194    1\n",
       "195    0\n",
       "196    1\n",
       "197    0\n",
       "198    0\n",
       "Name: classify, Length: 199, dtype: int64"
      ]
     },
     "execution_count": 32,
     "metadata": {},
     "output_type": "execute_result"
    }
   ],
   "source": [
    "data[\"classify\"].astype(\"int64\")"
   ]
  },
  {
   "cell_type": "code",
   "execution_count": 33,
   "id": "73af9865",
   "metadata": {},
   "outputs": [],
   "source": [
    "y_v1=data[\"classify\"]"
   ]
  },
  {
   "cell_type": "code",
   "execution_count": 34,
   "id": "f762d7a9",
   "metadata": {},
   "outputs": [
    {
     "name": "stdout",
     "output_type": "stream",
     "text": [
      "x_train(159, 9)\n",
      "y_train(159,)\n",
      "x_test(40, 9)\n",
      "y_test(40,)\n"
     ]
    }
   ],
   "source": [
    "x_train,x_test,y_train,y_test=train_test_split(x,y_v1,test_size=0.2,random_state=3243287,shuffle=True)\n",
    "print(f\"x_train{x_train.shape}\")\n",
    "print(f\"y_train{y_train.shape}\")\n",
    "print(f\"x_test{x_test.shape}\")\n",
    "print(f\"y_test{y_test.shape}\")"
   ]
  },
  {
   "cell_type": "code",
   "execution_count": 35,
   "id": "0992f9e8",
   "metadata": {},
   "outputs": [],
   "source": [
    "from sklearn.tree import DecisionTreeClassifier"
   ]
  },
  {
   "cell_type": "code",
   "execution_count": 36,
   "id": "2ae67f6b",
   "metadata": {},
   "outputs": [
    {
     "name": "stdout",
     "output_type": "stream",
     "text": [
      "[ True False False False False False  True False  True  True False False\n",
      "  True  True  True False  True  True  True  True False False  True False\n",
      " False  True False False  True False False False False False False False\n",
      "  True  True False  True]\n"
     ]
    }
   ],
   "source": [
    "dtc=DecisionTreeClassifier()\n",
    "dtc.fit(x_train,y_train)\n",
    "y_dtc_pred=dtc.predict(x_test)\n",
    "print(y_dtc_pred)"
   ]
  },
  {
   "cell_type": "code",
   "execution_count": 37,
   "id": "d87767d2",
   "metadata": {},
   "outputs": [],
   "source": [
    "from sklearn.metrics import classification_report"
   ]
  },
  {
   "cell_type": "code",
   "execution_count": 38,
   "id": "23d90e56",
   "metadata": {},
   "outputs": [
    {
     "name": "stdout",
     "output_type": "stream",
     "text": [
      "              precision    recall  f1-score   support\n",
      "\n",
      "       False       0.74      0.94      0.83        18\n",
      "        True       0.94      0.73      0.82        22\n",
      "\n",
      "    accuracy                           0.82        40\n",
      "   macro avg       0.84      0.84      0.82        40\n",
      "weighted avg       0.85      0.82      0.82        40\n",
      "\n"
     ]
    }
   ],
   "source": [
    "print(classification_report(y_test,y_dtc_pred))"
   ]
  },
  {
   "cell_type": "code",
   "execution_count": null,
   "id": "044189a7",
   "metadata": {},
   "outputs": [],
   "source": []
  }
 ],
 "metadata": {
  "kernelspec": {
   "display_name": "Python 3 (ipykernel)",
   "language": "python",
   "name": "python3"
  },
  "language_info": {
   "codemirror_mode": {
    "name": "ipython",
    "version": 3
   },
   "file_extension": ".py",
   "mimetype": "text/x-python",
   "name": "python",
   "nbconvert_exporter": "python",
   "pygments_lexer": "ipython3",
   "version": "3.10.9"
  }
 },
 "nbformat": 4,
 "nbformat_minor": 5
}
